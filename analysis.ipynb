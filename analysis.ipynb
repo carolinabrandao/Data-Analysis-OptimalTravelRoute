{
 "cells": [
  {
   "cell_type": "code",
   "execution_count": 45,
   "metadata": {},
   "outputs": [],
   "source": [
    "import pandas as pd\n",
    "import numpy as np\n",
    "import matplotlib.pyplot as plt"
   ]
  },
  {
   "cell_type": "code",
   "execution_count": 46,
   "metadata": {},
   "outputs": [
    {
     "data": {
      "text/html": [
       "<div>\n",
       "<style scoped>\n",
       "    .dataframe tbody tr th:only-of-type {\n",
       "        vertical-align: middle;\n",
       "    }\n",
       "\n",
       "    .dataframe tbody tr th {\n",
       "        vertical-align: top;\n",
       "    }\n",
       "\n",
       "    .dataframe thead th {\n",
       "        text-align: right;\n",
       "    }\n",
       "</style>\n",
       "<table border=\"1\" class=\"dataframe\">\n",
       "  <thead>\n",
       "    <tr style=\"text-align: right;\">\n",
       "      <th></th>\n",
       "      <th>Route ID</th>\n",
       "      <th>Start City</th>\n",
       "      <th>Start Date</th>\n",
       "      <th>Greedy Route</th>\n",
       "      <th>Optimal Route</th>\n",
       "      <th>Greedy Price</th>\n",
       "      <th>Optimal Price</th>\n",
       "      <th>Target Audience</th>\n",
       "      <th>Region</th>\n",
       "      <th>Subregion</th>\n",
       "      <th>Month</th>\n",
       "      <th>Trip ID</th>\n",
       "      <th>Greedy Distance</th>\n",
       "      <th>Optimal Route Distance</th>\n",
       "    </tr>\n",
       "  </thead>\n",
       "  <tbody>\n",
       "    <tr>\n",
       "      <th>0</th>\n",
       "      <td>1</td>\n",
       "      <td>PARIS</td>\n",
       "      <td>2025-07-01</td>\n",
       "      <td>['BARCELONA', 'IBIZA', 'LISBON', 'SPLIT', 'BER...</td>\n",
       "      <td>['BARCELONA', 'LISBON', 'BERLIN', 'IBIZA', 'SP...</td>\n",
       "      <td>722.01</td>\n",
       "      <td>660.24</td>\n",
       "      <td>YOUNG</td>\n",
       "      <td>EUROPE</td>\n",
       "      <td>WEST</td>\n",
       "      <td>JULY</td>\n",
       "      <td>A</td>\n",
       "      <td>6122.17</td>\n",
       "      <td>8501.00</td>\n",
       "    </tr>\n",
       "    <tr>\n",
       "      <th>1</th>\n",
       "      <td>2</td>\n",
       "      <td>PARIS</td>\n",
       "      <td>2025-08-01</td>\n",
       "      <td>['BARCELONA', 'IBIZA', 'LISBON', 'SPLIT', 'BER...</td>\n",
       "      <td>['BARCELONA', 'LISBON', 'BERLIN', 'IBIZA', 'SP...</td>\n",
       "      <td>949.49</td>\n",
       "      <td>836.46</td>\n",
       "      <td>YOUNG</td>\n",
       "      <td>EUROPE</td>\n",
       "      <td>WEST</td>\n",
       "      <td>AUGUST</td>\n",
       "      <td>A</td>\n",
       "      <td>6122.17</td>\n",
       "      <td>8501.00</td>\n",
       "    </tr>\n",
       "    <tr>\n",
       "      <th>2</th>\n",
       "      <td>3</td>\n",
       "      <td>PARIS</td>\n",
       "      <td>2025-07-01</td>\n",
       "      <td>['NICE', 'ROME', 'MAJORCA', 'IBIZA', 'MYKONOS']</td>\n",
       "      <td>['MAJORCA', 'MYKONOS', 'IBIZA', 'ROME', 'NICE']</td>\n",
       "      <td>772.90</td>\n",
       "      <td>670.43</td>\n",
       "      <td>YOUNG</td>\n",
       "      <td>EUROPE</td>\n",
       "      <td>WEST</td>\n",
       "      <td>JULY</td>\n",
       "      <td>B</td>\n",
       "      <td>6493.99</td>\n",
       "      <td>7243.73</td>\n",
       "    </tr>\n",
       "    <tr>\n",
       "      <th>3</th>\n",
       "      <td>4</td>\n",
       "      <td>PARIS</td>\n",
       "      <td>2025-08-01</td>\n",
       "      <td>['NICE', 'ROME', 'MAJORCA', 'IBIZA', 'MYKONOS']</td>\n",
       "      <td>['MAJORCA', 'IBIZA', 'MYKONOS', 'ROME', 'NICE']</td>\n",
       "      <td>1338.91</td>\n",
       "      <td>707.53</td>\n",
       "      <td>YOUNG</td>\n",
       "      <td>EUROPE</td>\n",
       "      <td>WEST</td>\n",
       "      <td>AUGUST</td>\n",
       "      <td>B</td>\n",
       "      <td>6493.99</td>\n",
       "      <td>5634.91</td>\n",
       "    </tr>\n",
       "    <tr>\n",
       "      <th>4</th>\n",
       "      <td>5</td>\n",
       "      <td>TAMPA</td>\n",
       "      <td>2025-07-01</td>\n",
       "      <td>['FORT LAUDERDALE', 'MIAMI', 'WASHINGTON', 'NE...</td>\n",
       "      <td>['FORT LAUDERDALE', 'NEW YORK CITY', 'MIAMI', ...</td>\n",
       "      <td>1501.52</td>\n",
       "      <td>887.77</td>\n",
       "      <td>YOUNG</td>\n",
       "      <td>USA</td>\n",
       "      <td>EAST</td>\n",
       "      <td>JULY</td>\n",
       "      <td>C</td>\n",
       "      <td>4372.41</td>\n",
       "      <td>7950.58</td>\n",
       "    </tr>\n",
       "  </tbody>\n",
       "</table>\n",
       "</div>"
      ],
      "text/plain": [
       "   Route ID Start City  Start Date  \\\n",
       "0         1      PARIS  2025-07-01   \n",
       "1         2      PARIS  2025-08-01   \n",
       "2         3      PARIS  2025-07-01   \n",
       "3         4      PARIS  2025-08-01   \n",
       "4         5      TAMPA  2025-07-01   \n",
       "\n",
       "                                        Greedy Route  \\\n",
       "0  ['BARCELONA', 'IBIZA', 'LISBON', 'SPLIT', 'BER...   \n",
       "1  ['BARCELONA', 'IBIZA', 'LISBON', 'SPLIT', 'BER...   \n",
       "2    ['NICE', 'ROME', 'MAJORCA', 'IBIZA', 'MYKONOS']   \n",
       "3    ['NICE', 'ROME', 'MAJORCA', 'IBIZA', 'MYKONOS']   \n",
       "4  ['FORT LAUDERDALE', 'MIAMI', 'WASHINGTON', 'NE...   \n",
       "\n",
       "                                       Optimal Route  Greedy Price  \\\n",
       "0  ['BARCELONA', 'LISBON', 'BERLIN', 'IBIZA', 'SP...        722.01   \n",
       "1  ['BARCELONA', 'LISBON', 'BERLIN', 'IBIZA', 'SP...        949.49   \n",
       "2    ['MAJORCA', 'MYKONOS', 'IBIZA', 'ROME', 'NICE']        772.90   \n",
       "3    ['MAJORCA', 'IBIZA', 'MYKONOS', 'ROME', 'NICE']       1338.91   \n",
       "4  ['FORT LAUDERDALE', 'NEW YORK CITY', 'MIAMI', ...       1501.52   \n",
       "\n",
       "   Optimal Price Target Audience  Region Subregion   Month Trip ID  \\\n",
       "0         660.24           YOUNG  EUROPE      WEST    JULY       A   \n",
       "1         836.46           YOUNG  EUROPE      WEST  AUGUST       A   \n",
       "2         670.43           YOUNG  EUROPE      WEST    JULY       B   \n",
       "3         707.53           YOUNG  EUROPE      WEST  AUGUST       B   \n",
       "4         887.77           YOUNG     USA      EAST    JULY       C   \n",
       "\n",
       "   Greedy Distance  Optimal Route Distance  \n",
       "0          6122.17                 8501.00  \n",
       "1          6122.17                 8501.00  \n",
       "2          6493.99                 7243.73  \n",
       "3          6493.99                 5634.91  \n",
       "4          4372.41                 7950.58  "
      ]
     },
     "execution_count": 46,
     "metadata": {},
     "output_type": "execute_result"
    }
   ],
   "source": [
    "#read data\n",
    "routes = pd.read_csv('routes_final.csv')\n",
    "routes.head()"
   ]
  },
  {
   "cell_type": "code",
   "execution_count": 48,
   "metadata": {},
   "outputs": [
    {
     "name": "stdout",
     "output_type": "stream",
     "text": [
      "Target Audience ['YOUNG' 'ELDER']\n",
      "Region ['EUROPE' 'USA']\n",
      "Subregion ['WEST' 'EAST']\n",
      "Month ['JULY' 'AUGUST']\n"
     ]
    }
   ],
   "source": [
    "#print the possible values for the columns: target audience, region, subregion,moonth\n",
    "print(\"Target Audience\", routes['Target Audience'].unique())\n",
    "print(\"Region\", routes['Region'].unique())\n",
    "print(\"Subregion\", routes['Subregion'].unique())\n",
    "print(\"Month\", routes['Month'].unique())\n"
   ]
  },
  {
   "cell_type": "code",
   "execution_count": 42,
   "metadata": {},
   "outputs": [
    {
     "name": "stdout",
     "output_type": "stream",
     "text": [
      "Number of instances: 22\n",
      "Number of unique routes: 11\n",
      "Greedy Price was higher than the Optimal Price in 22 instances.\n"
     ]
    }
   ],
   "source": [
    "#compare greedy price with optimal price\n",
    "\n",
    "print(f\"Number of instances: {routes.shape[0]}\")\n",
    "\n",
    "\n",
    "unique_routes = routes['Trip ID'].unique()\n",
    "print(f\"Number of unique routes: {unique_routes.shape[0]}\")\n",
    "\n",
    "greedy_greater_count = routes[routes['Greedy Price'] > routes['Optimal Price']].shape[0]\n",
    "\n",
    "print(f\"Greedy Price was higher than the Optimal Price in {greedy_greater_count} instances.\")\n",
    "\n"
   ]
  },
  {
   "cell_type": "code",
   "execution_count": 35,
   "metadata": {},
   "outputs": [
    {
     "name": "stdout",
     "output_type": "stream",
     "text": [
      "Total cases where Optimal Route is the reverse of Greedy Route: 1\n",
      "\n",
      "Case:\n",
      "Route ID        21\n",
      "Target Audience ELDER\n",
      "Region          USA\n",
      "Subregion       WEST\n",
      "Month           JULY\n",
      "\n",
      "Greedy Route    SANTA BARBARA → PALM SPRINGS → JACKSON HOLE, WYOMING → PORTLAND, OREGON → NAPA VALLEY → CHICAGO → SANTA BARBARA\n",
      "Optimal Route   SANTA BARBARA → CHICAGO → NAPA VALLEY → PORTLAND, OREGON → JACKSON HOLE, WYOMING → PALM SPRINGS → SANTA BARBARA\n"
     ]
    }
   ],
   "source": [
    "#checking how many times the optimal route is the reverse of the greedy route\n",
    "\n",
    "def is_reverse(route1, route2):\n",
    "    route1_list = eval(route1)\n",
    "    route2_list = eval(route2)\n",
    "    return route1_list == route2_list[::-1]\n",
    "\n",
    "routes['Is Reverse'] = routes.apply(lambda row: is_reverse(row['Greedy Route'], row['Optimal Route']), axis=1)\n",
    "reverse_cases = routes[routes['Is Reverse']]\n",
    "\n",
    "print(f\"Total cases where Optimal Route is the reverse of Greedy Route: {len(reverse_cases)}\\n\")\n",
    "for _, row in reverse_cases.iterrows():\n",
    "    start_city = row['Start City']\n",
    "    greedy_route = \" → \".join(eval(row['Greedy Route']))\n",
    "    optimal_route = \" → \".join(eval(row['Optimal Route']))\n",
    "    \n",
    "    print(f\"Case:\")\n",
    "    print(f\"Route ID        {row['Route ID']}\")\n",
    "    print(f\"Target Audience {row['Target Audience']}\")\n",
    "    print(f\"Region          {row['Region']}\")\n",
    "    print(f\"Subregion       {row['Subregion']}\")\n",
    "    print(f\"Month           {row['Month']}\\n\")\n",
    "    print(f\"Greedy Route    {start_city} → {greedy_route} → {start_city}\")\n",
    "    print(f\"Optimal Route   {start_city} → {optimal_route} → {start_city}\")\n"
   ]
  },
  {
   "cell_type": "code",
   "execution_count": 41,
   "metadata": {},
   "outputs": [
    {
     "name": "stdout",
     "output_type": "stream",
     "text": [
      "Trip ID         A\n",
      "Optimal Route   PARIS → BARCELONA → LISBON → BERLIN → IBIZA → SPLIT → PARIS\n",
      "Target Audience YOUNG\n",
      "Region          EUROPE\n",
      "Subregion       WEST\n",
      "\n",
      "Trip ID         G\n",
      "Optimal Route   VIENNA → PORTO → BARCELONA → VENICE,ITALY → AIX-EN-PROVENCE → ROME → VIENNA\n",
      "Target Audience ELDER\n",
      "Region          EUROPE\n",
      "Subregion       WEST\n",
      "\n",
      "\n",
      "Trips with the same 'Optimal Route': 2\n",
      "Trips with different 'Optimal Route': 9\n"
     ]
    }
   ],
   "source": [
    "#checking when the same trip but in different months has different routes\n",
    "\n",
    "#grouping the data by 'Trip ID' to compare the 'Optimal Route' across different months\n",
    "trip_groups = routes.groupby('Trip ID')\n",
    "\n",
    "same_routes = 0\n",
    "different_routes = 0\n",
    "\n",
    "#iterate through each trip group to compare 'Optimal Route'\n",
    "for trip_id, group in trip_groups:\n",
    "    unique_routes = group['Optimal Route'].unique()\n",
    "    \n",
    "    if len(unique_routes) == 1:  # All routes are the same\n",
    "        same_routes += 1\n",
    "        \n",
    "        start_city = group['Start City'].iloc[0]\n",
    "        optimal_route = \" → \".join(eval(unique_routes[0]))  \n",
    "        \n",
    "        print(f\"Trip ID         {trip_id}\")\n",
    "        print(f\"Optimal Route   {start_city} → {optimal_route} → {start_city}\")\n",
    "        print(f\"Target Audience {group['Target Audience'].iloc[0]}\")\n",
    "        print(f\"Region          {group['Region'].iloc[0]}\")\n",
    "        print(f\"Subregion       {group['Subregion'].iloc[0]}\\n\")\n",
    "   \n",
    "    else:\n",
    "        different_routes += 1  \n",
    "\n",
    "# Print the summary\n",
    "print(f\"\\nTrips with the same 'Optimal Route': {same_routes}\")\n",
    "print(f\"Trips with different 'Optimal Route': {different_routes}\")\n",
    "\n",
    "\n",
    "\n"
   ]
  },
  {
   "cell_type": "markdown",
   "metadata": {},
   "source": [
    "Out of the 11 analyzed trips, 9 showed variations in the Optimal Route depending on the month (July or August). \n",
    "Only 2 trips maintained the same Optimal Route across both months."
   ]
  },
  {
   "cell_type": "code",
   "execution_count": 49,
   "metadata": {},
   "outputs": [
    {
     "name": "stdout",
     "output_type": "stream",
     "text": [
      "Average Price Difference between Greedy and Optimal Price: 287.67\n"
     ]
    }
   ],
   "source": [
    "#average price difference between greedy and optimal price\n",
    "routes['Price Difference'] = routes['Greedy Price'] - routes['Optimal Price']\n",
    "average_price_difference = routes['Price Difference'].mean()\n",
    "print(f\"Average price difference between Greedy and Optimal Price: {average_price_difference:.2f}\")"
   ]
  },
  {
   "cell_type": "code",
   "execution_count": 54,
   "metadata": {},
   "outputs": [
    {
     "name": "stdout",
     "output_type": "stream",
     "text": [
      "Average price difference for ELDER: 266.11\n",
      "Average price difference for YOUNG: 305.65\n",
      "\n",
      "Average price difference for EUROPE: 204.04\n",
      "Average price difference for USA: 335.47\n",
      "\n",
      "Average price difference for EAST: 476.64\n",
      "Average price difference for WEST: 229.58\n",
      "\n",
      "Average price difference for AUGUST: 301.45\n",
      "Average price difference for JULY: 273.90\n",
      "\n"
     ]
    }
   ],
   "source": [
    "#average price difference between greedy and optimal price for each target audience\n",
    "target_audience_groups = routes.groupby('Target Audience')\n",
    "for target_audience, group in target_audience_groups:\n",
    "    average_price_difference = group['Price Difference'].mean()\n",
    "    print(f\"Average price difference for {target_audience}: {average_price_difference:.2f}\")\n",
    "print()\n",
    "\n",
    "#average price difference between greedy and optimal price for each region \n",
    "region_groups = routes.groupby('Region')\n",
    "for region, group in region_groups:\n",
    "    average_price_difference = group['Price Difference'].mean()\n",
    "    print(f\"Average price difference for {region}: {average_price_difference:.2f}\")\n",
    "print()\n",
    "\n",
    "#average price difference between greedy and optimal price for each subregion when regoin is 'EUA'\n",
    "region_groups = routes.groupby('Region')\n",
    "subregion_groups = region_groups.get_group('USA').groupby('Subregion')\n",
    "for subregion, group in subregion_groups:\n",
    "    average_price_difference = group['Price Difference'].mean()\n",
    "    print(f\"Average price difference for {subregion}: {average_price_difference:.2f}\")\n",
    "print()\n",
    "\n",
    "#average price difference between greedy and optimal price for each month\n",
    "month_groups = routes.groupby('Month')\n",
    "for month, group in month_groups:\n",
    "    average_price_difference = group['Price Difference'].mean()\n",
    "    print(f\"Average price difference for {month}: {average_price_difference:.2f}\")\n",
    "print()\n",
    "\n"
   ]
  }
 ],
 "metadata": {
  "kernelspec": {
   "display_name": "Python 3",
   "language": "python",
   "name": "python3"
  },
  "language_info": {
   "codemirror_mode": {
    "name": "ipython",
    "version": 3
   },
   "file_extension": ".py",
   "mimetype": "text/x-python",
   "name": "python",
   "nbconvert_exporter": "python",
   "pygments_lexer": "ipython3",
   "version": "3.9.6"
  }
 },
 "nbformat": 4,
 "nbformat_minor": 2
}
